{
 "cells": [
  {
   "cell_type": "code",
   "execution_count": 48,
   "metadata": {},
   "outputs": [],
   "source": [
    "import decimal\n",
    "import numpy as np\n",
    "import matplotlib.pyplot as plt\n",
    "import datetime"
   ]
  },
  {
   "cell_type": "code",
   "execution_count": 49,
   "metadata": {},
   "outputs": [
    {
     "data": {
      "text/plain": [
       "[4,\n",
       " 8,\n",
       " 16,\n",
       " 32,\n",
       " 64,\n",
       " 128,\n",
       " 256,\n",
       " 512,\n",
       " 1024,\n",
       " 2048,\n",
       " 4096,\n",
       " 8192,\n",
       " 16384,\n",
       " 32768,\n",
       " 65536,\n",
       " 131072,\n",
       " 262144,\n",
       " 524288,\n",
       " 1048576,\n",
       " 2097152,\n",
       " 4194304]"
      ]
     },
     "execution_count": 49,
     "metadata": {},
     "output_type": "execute_result"
    }
   ],
   "source": [
    "sizes = [2 ** i for i in range(2, 23)]; sizes"
   ]
  },
  {
   "cell_type": "code",
   "execution_count": 50,
   "metadata": {},
   "outputs": [],
   "source": [
    "def func_a(n):\n",
    "    arr = [decimal.Decimal(42)] * n\n",
    "    return list(map(lambda x: x * 2, arr))\n",
    "\n",
    "def func_b(n):\n",
    "    arr = [decimal.Decimal(42)] * n\n",
    "    np_arr = np.array(arr)\n",
    "    return np_arr * 2\n",
    "    \n",
    "def time(func, *args):\n",
    "    start = datetime.datetime.now()\n",
    "    func(*args)\n",
    "    end = datetime.datetime.now()\n",
    "    return end - start"
   ]
  },
  {
   "cell_type": "code",
   "execution_count": 51,
   "metadata": {},
   "outputs": [],
   "source": [
    "times_a = []\n",
    "times_b = []\n",
    "\n",
    "for size in sizes:\n",
    "    times_a.append(time(func_a, size).total_seconds())\n",
    "    times_b.append(time(func_b, size).total_seconds())"
   ]
  },
  {
   "cell_type": "code",
   "execution_count": 52,
   "metadata": {},
   "outputs": [
    {
     "data": {
      "text/plain": [
       "[1.4e-05,\n",
       " 8e-06,\n",
       " 7e-06,\n",
       " 1.2e-05,\n",
       " 1.9e-05,\n",
       " 4.1e-05,\n",
       " 7.3e-05,\n",
       " 0.000153,\n",
       " 0.000261,\n",
       " 0.000584,\n",
       " 0.001647,\n",
       " 0.001815,\n",
       " 0.003147,\n",
       " 0.005774,\n",
       " 0.012142,\n",
       " 0.024574,\n",
       " 0.050275,\n",
       " 0.100634,\n",
       " 0.205009,\n",
       " 0.41049,\n",
       " 0.843461]"
      ]
     },
     "execution_count": 52,
     "metadata": {},
     "output_type": "execute_result"
    }
   ],
   "source": [
    "times_a"
   ]
  },
  {
   "cell_type": "code",
   "execution_count": 53,
   "metadata": {},
   "outputs": [
    {
     "data": {
      "text/plain": [
       "<matplotlib.legend.Legend at 0x7f7499e029d0>"
      ]
     },
     "execution_count": 53,
     "metadata": {},
     "output_type": "execute_result"
    },
    {
     "data": {
      "image/png": "[encoded data removed]",
      "text/plain": [
       "<Figure size 432x288 with 1 Axes>"
      ]
     },
     "metadata": {
      "needs_background": "light"
     },
     "output_type": "display_data"
    }
   ],
   "source": [
    "plt.plot(times_a, label='func_a: Python')\n",
    "plt.plot(times_b, label='func_b: numpy')\n",
    "plt.legend()"
   ]
  }
 ],
 "metadata": {
  "kernelspec": {
   "display_name": "Python 3",
   "language": "python",
   "name": "orchest-kernel-6ba1c377-6808-4207-ba8d-3797c7d30a5c"
  },
  "language_info": {
   "codemirror_mode": {
    "name": "ipython",
    "version": 3
   },
   "file_extension": ".py",
   "mimetype": "text/x-python",
   "name": "python",
   "nbconvert_exporter": "python",
   "pygments_lexer": "ipython3",
   "version": "3.7.6"
  }
 },
 "nbformat": 4,
 "nbformat_minor": 4
}
